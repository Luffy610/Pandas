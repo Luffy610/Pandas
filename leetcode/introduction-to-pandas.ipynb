{
 "cells": [
  {
   "cell_type": "markdown",
   "id": "2fac5fb8-4cd3-4300-aa04-65a04a9144a2",
   "metadata": {},
   "source": [
    "#### https://leetcode.com/problems/create-a-dataframe-from-list/description/?envType=study-plan-v2&envId=introduction-to-pandas&lang=pythondata"
   ]
  },
  {
   "cell_type": "code",
   "execution_count": 2,
   "id": "e7fa0f86-c0e9-414c-8d7e-740216af74da",
   "metadata": {},
   "outputs": [],
   "source": [
    "import pandas as pd"
   ]
  },
  {
   "cell_type": "code",
   "execution_count": 3,
   "id": "8b5ff3d2-982e-4ee8-83db-27435599d6b5",
   "metadata": {},
   "outputs": [],
   "source": [
    "student_data = [\n",
    "  [1, 15],\n",
    "  [2, 11],\n",
    "  [3, 11],\n",
    "  [4, 20]\n",
    "]"
   ]
  },
  {
   "cell_type": "code",
   "execution_count": 4,
   "id": "02742e91-c165-4ea6-b2f8-14d23db5758d",
   "metadata": {},
   "outputs": [],
   "source": [
    "student_df = pd.DataFrame(student_data, columns=['student_id', 'age'])"
   ]
  },
  {
   "cell_type": "code",
   "execution_count": 5,
   "id": "9b9f196e-b2dc-4e61-89b5-b219fdb23d7a",
   "metadata": {},
   "outputs": [
    {
     "data": {
      "text/html": [
       "<div>\n",
       "<style scoped>\n",
       "    .dataframe tbody tr th:only-of-type {\n",
       "        vertical-align: middle;\n",
       "    }\n",
       "\n",
       "    .dataframe tbody tr th {\n",
       "        vertical-align: top;\n",
       "    }\n",
       "\n",
       "    .dataframe thead th {\n",
       "        text-align: right;\n",
       "    }\n",
       "</style>\n",
       "<table border=\"1\" class=\"dataframe\">\n",
       "  <thead>\n",
       "    <tr style=\"text-align: right;\">\n",
       "      <th></th>\n",
       "      <th>student_id</th>\n",
       "      <th>age</th>\n",
       "    </tr>\n",
       "  </thead>\n",
       "  <tbody>\n",
       "    <tr>\n",
       "      <th>0</th>\n",
       "      <td>1</td>\n",
       "      <td>15</td>\n",
       "    </tr>\n",
       "    <tr>\n",
       "      <th>1</th>\n",
       "      <td>2</td>\n",
       "      <td>11</td>\n",
       "    </tr>\n",
       "    <tr>\n",
       "      <th>2</th>\n",
       "      <td>3</td>\n",
       "      <td>11</td>\n",
       "    </tr>\n",
       "    <tr>\n",
       "      <th>3</th>\n",
       "      <td>4</td>\n",
       "      <td>20</td>\n",
       "    </tr>\n",
       "  </tbody>\n",
       "</table>\n",
       "</div>"
      ],
      "text/plain": [
       "   student_id  age\n",
       "0           1   15\n",
       "1           2   11\n",
       "2           3   11\n",
       "3           4   20"
      ]
     },
     "execution_count": 5,
     "metadata": {},
     "output_type": "execute_result"
    }
   ],
   "source": [
    "student_df"
   ]
  },
  {
   "cell_type": "markdown",
   "id": "340e6575-49a9-46b3-81be-06a406038ca6",
   "metadata": {},
   "source": [
    "#### https://leetcode.com/problems/get-the-size-of-a-dataframe/description/?envType=study-plan-v2&envId=introduction-to-pandas&lang=pythondata"
   ]
  },
  {
   "cell_type": "code",
   "execution_count": null,
   "id": "e22a68b6-82d5-4152-bc1e-48a90a51e990",
   "metadata": {},
   "outputs": [],
   "source": [
    "players.shape"
   ]
  },
  {
   "cell_type": "markdown",
   "id": "99a53fd4-1824-4576-a28d-38c0ca14aaef",
   "metadata": {},
   "source": [
    "#### https://leetcode.com/problems/display-the-first-three-rows/description/?envType=study-plan-v2&envId=introduction-to-pandas&lang=pythondata"
   ]
  },
  {
   "cell_type": "code",
   "execution_count": null,
   "id": "babeff93-ec4c-4cf4-98f2-ff6b431d6be8",
   "metadata": {},
   "outputs": [],
   "source": [
    "employees.head(3)"
   ]
  },
  {
   "cell_type": "markdown",
   "id": "1f1c7d5d-fddf-423b-88d9-f833f4a097f7",
   "metadata": {},
   "source": [
    "#### https://leetcode.com/problems/select-data/?envType=study-plan-v2&envId=introduction-to-pandas&lang=pythondata"
   ]
  },
  {
   "cell_type": "code",
   "execution_count": null,
   "id": "28522c3b-eb5a-4233-a598-796832158dc6",
   "metadata": {},
   "outputs": [],
   "source": [
    "filt = students[students['student_id'] == 101][['name','age']]"
   ]
  },
  {
   "cell_type": "markdown",
   "id": "4d2fb19e-920d-490a-8ad6-6477bdc38bf3",
   "metadata": {},
   "source": [
    "#### https://leetcode.com/problems/create-a-new-column/description/?envType=study-plan-v2&envId=introduction-to-pandas&lang=pythondata"
   ]
  },
  {
   "cell_type": "code",
   "execution_count": null,
   "id": "c0018f7d-86f2-49b1-a22c-22d62708ddc0",
   "metadata": {},
   "outputs": [],
   "source": [
    "employees['bonus'] = employees['salary'] * 2"
   ]
  },
  {
   "cell_type": "markdown",
   "id": "3580c77b-090c-4d2c-b5fe-45b821596f3f",
   "metadata": {},
   "source": [
    "#### https://leetcode.com/problems/drop-duplicate-rows/?envType=study-plan-v2&envId=introduction-to-pandas&lang=pythondata"
   ]
  },
  {
   "cell_type": "code",
   "execution_count": null,
   "id": "581f4d33-2bb2-45b6-b7a8-e7abae7c2717",
   "metadata": {},
   "outputs": [],
   "source": [
    "customers.drop_duplicates(subset='email')"
   ]
  },
  {
   "cell_type": "markdown",
   "id": "c76afd04-7e11-4a17-a314-377b948b54ad",
   "metadata": {},
   "source": [
    "#### https://leetcode.com/problems/drop-missing-data/description/?envType=study-plan-v2&envId=introduction-to-pandas&lang=pythondata"
   ]
  },
  {
   "cell_type": "code",
   "execution_count": null,
   "id": "0e2dc519-97ae-499b-964d-4fc6902980a6",
   "metadata": {},
   "outputs": [],
   "source": [
    "students.dropna(subset='name')"
   ]
  },
  {
   "cell_type": "markdown",
   "id": "1f7c915b-bc77-45b6-ab64-c4a834e4bf78",
   "metadata": {},
   "source": [
    "#### https://leetcode.com/problems/modify-columns/description/?envType=study-plan-v2&envId=introduction-to-pandas&lang=pythondata"
   ]
  },
  {
   "cell_type": "code",
   "execution_count": 16,
   "id": "c5ff490e-bb90-46f1-9d51-2e478c884363",
   "metadata": {},
   "outputs": [],
   "source": [
    "employees['salary'] = employees['salary'] * 2"
   ]
  },
  {
   "cell_type": "markdown",
   "id": "69e9655f-6797-4ec4-be0d-918d28097d95",
   "metadata": {},
   "source": [
    "#### https://leetcode.com/problems/rename-columns/description/?envType=study-plan-v2&envId=introduction-to-pandas&lang=pythondata"
   ]
  },
  {
   "cell_type": "code",
   "execution_count": null,
   "id": "409fc591-93ea-4bce-bb2e-fb2e78756148",
   "metadata": {},
   "outputs": [],
   "source": [
    "students.rename(columns={'id':'student_id', 'first':'first_name', 'last':'last_name', 'age':'age_in_years'})"
   ]
  },
  {
   "cell_type": "markdown",
   "id": "1648ad08-5c41-43ce-9e63-4a981b4f503b",
   "metadata": {},
   "source": [
    "#### https://leetcode.com/problems/change-data-type/description/?envType=study-plan-v2&envId=introduction-to-pandas&lang=pythondata"
   ]
  },
  {
   "cell_type": "code",
   "execution_count": null,
   "id": "a9104130-dd48-4836-bb82-b73aa86878fb",
   "metadata": {},
   "outputs": [],
   "source": [
    "students['grade'] = students['grade'].astype(int)"
   ]
  },
  {
   "cell_type": "markdown",
   "id": "d40a6c81-67a4-4534-bb55-c11f21515923",
   "metadata": {},
   "source": [
    "#### https://leetcode.com/problems/fill-missing-data/description/?envType=study-plan-v2&envId=introduction-to-pandas&lang=pythondata"
   ]
  },
  {
   "cell_type": "code",
   "execution_count": null,
   "id": "ad333dd7-d8b0-448a-8e1a-c3dfadc31149",
   "metadata": {},
   "outputs": [],
   "source": [
    "products.fillna(value={'quantity':0})"
   ]
  },
  {
   "cell_type": "markdown",
   "id": "d1723a3b-733b-47c9-9b29-94e0e9b00989",
   "metadata": {},
   "source": [
    "#### https://leetcode.com/problems/reshape-data-concatenate/description/?envType=study-plan-v2&envId=introduction-to-pandas&lang=pythondata"
   ]
  },
  {
   "cell_type": "code",
   "execution_count": null,
   "id": "eb0d4c3e-58bb-4d73-b437-aeac111cccff",
   "metadata": {},
   "outputs": [],
   "source": [
    "pd.concat([df1,df2])"
   ]
  },
  {
   "cell_type": "markdown",
   "id": "80cc67dd-8bbb-47e4-89a0-8556721d735d",
   "metadata": {},
   "source": [
    "#### https://leetcode.com/problems/reshape-data-pivot/description/?envType=study-plan-v2&envId=introduction-to-pandas&lang=pythondata"
   ]
  },
  {
   "cell_type": "code",
   "execution_count": null,
   "id": "ce24cb6b-b82d-49d4-9507-1b71fa829783",
   "metadata": {},
   "outputs": [],
   "source": [
    "pd.pivot_table(weather, index='month', columns='city', values='temperature')"
   ]
  },
  {
   "cell_type": "code",
   "execution_count": 7,
   "id": "712596d6-b048-4e43-86d6-87d24f4bf810",
   "metadata": {},
   "outputs": [],
   "source": [
    "new_df = student_df[student_df['age']<12]"
   ]
  },
  {
   "cell_type": "code",
   "execution_count": 8,
   "id": "b8a02772-6d2a-4bb7-a0aa-845c2ff69494",
   "metadata": {},
   "outputs": [
    {
     "data": {
      "text/html": [
       "<div>\n",
       "<style scoped>\n",
       "    .dataframe tbody tr th:only-of-type {\n",
       "        vertical-align: middle;\n",
       "    }\n",
       "\n",
       "    .dataframe tbody tr th {\n",
       "        vertical-align: top;\n",
       "    }\n",
       "\n",
       "    .dataframe thead th {\n",
       "        text-align: right;\n",
       "    }\n",
       "</style>\n",
       "<table border=\"1\" class=\"dataframe\">\n",
       "  <thead>\n",
       "    <tr style=\"text-align: right;\">\n",
       "      <th></th>\n",
       "      <th>student_id</th>\n",
       "      <th>age</th>\n",
       "    </tr>\n",
       "  </thead>\n",
       "  <tbody>\n",
       "    <tr>\n",
       "      <th>1</th>\n",
       "      <td>2</td>\n",
       "      <td>11</td>\n",
       "    </tr>\n",
       "    <tr>\n",
       "      <th>2</th>\n",
       "      <td>3</td>\n",
       "      <td>11</td>\n",
       "    </tr>\n",
       "  </tbody>\n",
       "</table>\n",
       "</div>"
      ],
      "text/plain": [
       "   student_id  age\n",
       "1           2   11\n",
       "2           3   11"
      ]
     },
     "execution_count": 8,
     "metadata": {},
     "output_type": "execute_result"
    }
   ],
   "source": [
    "new_df"
   ]
  },
  {
   "cell_type": "code",
   "execution_count": null,
   "id": "1d1340f5-ff30-404d-a92b-97a6b3b060d5",
   "metadata": {},
   "outputs": [],
   "source": []
  }
 ],
 "metadata": {
  "kernelspec": {
   "display_name": "Python 3 (ipykernel)",
   "language": "python",
   "name": "python3"
  },
  "language_info": {
   "codemirror_mode": {
    "name": "ipython",
    "version": 3
   },
   "file_extension": ".py",
   "mimetype": "text/x-python",
   "name": "python",
   "nbconvert_exporter": "python",
   "pygments_lexer": "ipython3",
   "version": "3.12.4"
  }
 },
 "nbformat": 4,
 "nbformat_minor": 5
}
